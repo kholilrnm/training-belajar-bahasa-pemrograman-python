{
 "cells": [
  {
   "cell_type": "code",
   "execution_count": 1,
   "id": "306d2598-f6f8-4d1a-bcba-8238374fd3d6",
   "metadata": {},
   "outputs": [
    {
     "name": "stdout",
     "output_type": "stream",
     "text": [
      "Hero: Alucard, Role: Fighter, Health: 3200, Attack: 150\n",
      "Hero: Layla, Role: Marksman, Health: 2500, Attack: 180\n",
      "{'name': 'Alucard', 'role': 'Fighter', 'health': 3200, 'attack': 150}\n"
     ]
    }
   ],
   "source": [
    "class Hero:\n",
    "    def __init__(self, name, role, health, attack):\n",
    "        self.name = name\n",
    "        self.role = role\n",
    "        self.health = health\n",
    "        self.attack = attack\n",
    "\n",
    "    def display_info(self):\n",
    "        return f\"Hero: {self.name}, Role: {self.role}, Health: {self.health}, Attack: {self.attack}\"\n",
    "\n",
    "# Membuat objek hero\n",
    "hero1 = Hero(\"Alucard\", \"Fighter\", 3200, 150)\n",
    "hero2 = Hero(\"Layla\", \"Marksman\", 2500, 180)\n",
    "\n",
    "# Menampilkan informasi hero\n",
    "print(hero1.display_info())\n",
    "print(hero2.display_info())\n",
    "\n",
    "# Menampilkan atribut dalam bentuk dictionary\n",
    "print(hero1.__dict__)\n"
   ]
  },
  {
   "cell_type": "code",
   "execution_count": 8,
   "id": "b3ad3c35-48ab-469a-bfaf-8cdd951e8064",
   "metadata": {},
   "outputs": [
    {
     "name": "stdout",
     "output_type": "stream",
     "text": [
      "sapi bersuara: Mooo\n",
      "Hewan: sapi, Suara: Mooo\n"
     ]
    }
   ],
   "source": [
    "class Hewan:\n",
    "    def __init__(self, nama_hewan, suara):\n",
    "        self.nama_hewan = nama_hewan\n",
    "        self.suara = suara\n",
    "\n",
    "    def suara_hewan(self):\n",
    "        return f\"Hewan: {self.nama_hewan}, Suara: {self.suara}\"\n",
    "        \n",
    "\n",
    "hewan = Hewan(\"sapi\", \"Mooo\")\n",
    "\n",
    "print(f\"{hewan.nama_hewan} bersuara: {hewan.suara}\")  \n",
    "print(hewan.suara_hewan())"
   ]
  },
  {
   "cell_type": "code",
   "execution_count": null,
   "id": "c253a7eb-7e3e-4664-9882-0d169ead3a7c",
   "metadata": {},
   "outputs": [],
   "source": []
  }
 ],
 "metadata": {
  "kernelspec": {
   "display_name": "Python 3 (ipykernel)",
   "language": "python",
   "name": "python3"
  },
  "language_info": {
   "codemirror_mode": {
    "name": "ipython",
    "version": 3
   },
   "file_extension": ".py",
   "mimetype": "text/x-python",
   "name": "python",
   "nbconvert_exporter": "python",
   "pygments_lexer": "ipython3",
   "version": "3.10.6"
  }
 },
 "nbformat": 4,
 "nbformat_minor": 5
}
