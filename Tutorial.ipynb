{
 "cells": [
  {
   "cell_type": "code",
   "execution_count": 3,
   "id": "de479989-79c0-4841-bbc3-f6ff56371f72",
   "metadata": {},
   "outputs": [
    {
     "name": "stdout",
     "output_type": "stream",
     "text": [
      "hello pak it\n",
      "apa kabar ?\n"
     ]
    }
   ],
   "source": [
    "print(\"hello pak it\")\n",
    "print(\"apa kabar ?\")"
   ]
  },
  {
   "cell_type": "code",
   "execution_count": 4,
   "id": "7a377b35-6462-4264-884c-41983db296a0",
   "metadata": {},
   "outputs": [
    {
     "name": "stdout",
     "output_type": "stream",
     "text": [
      "Halo, Python!\n"
     ]
    }
   ],
   "source": [
    "if True:\n",
    "    print(\"Halo, Python!\")"
   ]
  },
  {
   "cell_type": "code",
   "execution_count": 19,
   "id": "7f1e3b48-7339-4262-82cb-a064c4f6e229",
   "metadata": {},
   "outputs": [
    {
     "name": "stdout",
     "output_type": "stream",
     "text": [
      "Malam Pak IT !\n"
     ]
    }
   ],
   "source": [
    "a = 'malam'\n",
    "if a != 'malam':\n",
    "    print(\"Pagi Pak IT !\")\n",
    "else:\n",
    "    print(\"Malam Pak IT !\")"
   ]
  },
  {
   "cell_type": "code",
   "execution_count": 31,
   "id": "17bbb9c2-e897-4bb6-b1f1-a4579711819b",
   "metadata": {},
   "outputs": [
    {
     "name": "stdout",
     "output_type": "stream",
     "text": [
      "<class 'int'> <class 'float'> <class 'str'> <class 'list'>\n"
     ]
    }
   ],
   "source": [
    "x = 10      # Integer\n",
    "y = 3.14    # Float\n",
    "z = \"Hello\" # String\n",
    "\n",
    "print(type(x), type(y), type(z), type(a))"
   ]
  },
  {
   "cell_type": "code",
   "execution_count": 17,
   "id": "279c9cfa-2295-4668-aad6-ae85b65062f0",
   "metadata": {},
   "outputs": [
    {
     "name": "stdout",
     "output_type": "stream",
     "text": [
      "8\n"
     ]
    }
   ],
   "source": [
    "# Operator Aritmatika\n",
    "hasil = 5 + 3  # Penjumlahan\n",
    "print(hasil)"
   ]
  },
  {
   "cell_type": "code",
   "execution_count": 20,
   "id": "5408ddc5-8332-478e-af4c-079a7668a2ca",
   "metadata": {},
   "outputs": [
    {
     "name": "stdout",
     "output_type": "stream",
     "text": [
      "malam\n"
     ]
    }
   ],
   "source": [
    "print(a)"
   ]
  },
  {
   "cell_type": "code",
   "execution_count": 32,
   "id": "7b81a6d4-6bdb-4efd-9249-f5d3fa5eb1fd",
   "metadata": {},
   "outputs": [
    {
     "name": "stdout",
     "output_type": "stream",
     "text": [
      "Lulus\n"
     ]
    }
   ],
   "source": [
    "nilai = 80\n",
    "if (nilai >= 75):\n",
    "    print(\"Lulus\")\n",
    "else:\n",
    "    print(\"Tidak Lulus\")"
   ]
  },
  {
   "cell_type": "code",
   "execution_count": 25,
   "id": "c20395e9-9233-4e9e-ba4d-3dd8dacdf907",
   "metadata": {},
   "outputs": [
    {
     "name": "stdout",
     "output_type": "stream",
     "text": [
      "0\n",
      "1\n",
      "2\n",
      "3\n",
      "4\n"
     ]
    }
   ],
   "source": [
    "for i in range(5):\n",
    "    print(i)"
   ]
  },
  {
   "cell_type": "code",
   "execution_count": 33,
   "id": "a5453bfe-855c-4a5c-bd94-ce0a4e20ccf2",
   "metadata": {},
   "outputs": [
    {
     "name": "stdout",
     "output_type": "stream",
     "text": [
      "Halo, Budi\n"
     ]
    }
   ],
   "source": [
    "def sapa(nama):\n",
    "    return \"Halo, \" + nama\n",
    "\n",
    "print(sapa(\"Budi\"))"
   ]
  },
  {
   "cell_type": "code",
   "execution_count": 34,
   "id": "4fdaa1cb-abed-459d-8f5a-6f0438f97679",
   "metadata": {},
   "outputs": [
    {
     "name": "stdout",
     "output_type": "stream",
     "text": [
      "4.0\n"
     ]
    }
   ],
   "source": [
    "import math\n",
    "print(math.sqrt(16))"
   ]
  },
  {
   "cell_type": "code",
   "execution_count": 35,
   "id": "6eb94f05-19f3-4a1d-80c4-f9f670cb8813",
   "metadata": {},
   "outputs": [
    {
     "name": "stdin",
     "output_type": "stream",
     "text": [
      "Masukkan nama:  kholil\n"
     ]
    },
    {
     "name": "stdout",
     "output_type": "stream",
     "text": [
      "Halo, kholil\n"
     ]
    }
   ],
   "source": [
    "nama = input(\"Masukkan nama: \")\n",
    "print(\"Halo, \" + nama)"
   ]
  },
  {
   "cell_type": "code",
   "execution_count": 36,
   "id": "5751429d-e430-43c9-8cd7-da7d5aa8a0c3",
   "metadata": {},
   "outputs": [
    {
     "name": "stdout",
     "output_type": "stream",
     "text": [
      "[1, 2, 3, 4]\n"
     ]
    }
   ],
   "source": [
    "x = [1, 2, 3]\n",
    "y = x\n",
    "y.append(4)\n",
    "print(x)"
   ]
  },
  {
   "cell_type": "code",
   "execution_count": null,
   "id": "e2e34a27-5278-488e-b5c8-0c406f8a4566",
   "metadata": {},
   "outputs": [],
   "source": []
  },
  {
   "cell_type": "code",
   "execution_count": 37,
   "id": "158bfb20-0ef8-4eb7-aa29-81c90a7efa42",
   "metadata": {},
   "outputs": [
    {
     "name": "stdout",
     "output_type": "stream",
     "text": [
      "10\n"
     ]
    }
   ],
   "source": [
    "x = 5\n",
    "y = \"5\"\n",
    "print(x + int(y))"
   ]
  },
  {
   "cell_type": "code",
   "execution_count": null,
   "id": "f8d54aca-dc53-430f-8a65-0ec8161988d8",
   "metadata": {},
   "outputs": [],
   "source": []
  }
 ],
 "metadata": {
  "kernelspec": {
   "display_name": "Python 3 (ipykernel)",
   "language": "python",
   "name": "python3"
  },
  "language_info": {
   "codemirror_mode": {
    "name": "ipython",
    "version": 3
   },
   "file_extension": ".py",
   "mimetype": "text/x-python",
   "name": "python",
   "nbconvert_exporter": "python",
   "pygments_lexer": "ipython3",
   "version": "3.10.6"
  }
 },
 "nbformat": 4,
 "nbformat_minor": 5
}
