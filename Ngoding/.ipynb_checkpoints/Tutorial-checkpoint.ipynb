{
 "cells": [
  {
   "cell_type": "code",
   "execution_count": 3,
   "id": "de479989-79c0-4841-bbc3-f6ff56371f72",
   "metadata": {},
   "outputs": [
    {
     "name": "stdout",
     "output_type": "stream",
     "text": [
      "hello pak it\n",
      "apa kabar ?\n"
     ]
    }
   ],
   "source": [
    "print(\"hello pak it\")\n",
    "print(\"apa kabar ?\")"
   ]
  },
  {
   "cell_type": "code",
   "execution_count": 4,
   "id": "7a377b35-6462-4264-884c-41983db296a0",
   "metadata": {},
   "outputs": [
    {
     "name": "stdout",
     "output_type": "stream",
     "text": [
      "Halo, Python!\n"
     ]
    }
   ],
   "source": [
    "if True:\n",
    "    print(\"Halo, Python!\")"
   ]
  },
  {
   "cell_type": "code",
   "execution_count": 19,
   "id": "7f1e3b48-7339-4262-82cb-a064c4f6e229",
   "metadata": {},
   "outputs": [
    {
     "name": "stdout",
     "output_type": "stream",
     "text": [
      "Malam Pak IT !\n"
     ]
    }
   ],
   "source": [
    "a = 'malam'\n",
    "if a != 'malam':\n",
    "    print(\"Pagi Pak IT !\")\n",
    "else:\n",
    "    print(\"Malam Pak IT !\")"
   ]
  },
  {
   "cell_type": "code",
   "execution_count": 15,
   "id": "17bbb9c2-e897-4bb6-b1f1-a4579711819b",
   "metadata": {},
   "outputs": [
    {
     "name": "stdout",
     "output_type": "stream",
     "text": [
      "<class 'int'> <class 'float'> <class 'str'>\n"
     ]
    }
   ],
   "source": [
    "x = 10      # Integer\n",
    "y = 3.14    # Float\n",
    "z = \"Hello\" # String\n",
    "print(type(x), type(y), type(z))"
   ]
  },
  {
   "cell_type": "code",
   "execution_count": 17,
   "id": "279c9cfa-2295-4668-aad6-ae85b65062f0",
   "metadata": {},
   "outputs": [
    {
     "name": "stdout",
     "output_type": "stream",
     "text": [
      "8\n"
     ]
    }
   ],
   "source": [
    "# Operator Aritmatika\n",
    "hasil = 5 + 3  # Penjumlahan\n",
    "print(hasil)"
   ]
  },
  {
   "cell_type": "code",
   "execution_count": 18,
   "id": "5408ddc5-8332-478e-af4c-079a7668a2ca",
   "metadata": {},
   "outputs": [
    {
     "name": "stdout",
     "output_type": "stream",
     "text": [
      "malam\n"
     ]
    }
   ],
   "source": [
    "print(a)"
   ]
  },
  {
   "cell_type": "code",
   "execution_count": null,
   "id": "7b81a6d4-6bdb-4efd-9249-f5d3fa5eb1fd",
   "metadata": {},
   "outputs": [],
   "source": []
  },
  {
   "cell_type": "code",
   "execution_count": null,
   "id": "c20395e9-9233-4e9e-ba4d-3dd8dacdf907",
   "metadata": {},
   "outputs": [],
   "source": []
  }
 ],
 "metadata": {
  "kernelspec": {
   "display_name": "Python 3 (ipykernel)",
   "language": "python",
   "name": "python3"
  },
  "language_info": {
   "codemirror_mode": {
    "name": "ipython",
    "version": 3
   },
   "file_extension": ".py",
   "mimetype": "text/x-python",
   "name": "python",
   "nbconvert_exporter": "python",
   "pygments_lexer": "ipython3",
   "version": "3.10.6"
  }
 },
 "nbformat": 4,
 "nbformat_minor": 5
}
